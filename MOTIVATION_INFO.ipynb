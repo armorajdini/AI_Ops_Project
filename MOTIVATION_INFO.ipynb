{
 "cells": [
  {
   "cell_type": "code",
   "execution_count": null,
   "id": "initial_id",
   "metadata": {
    "collapsed": true
   },
   "outputs": [],
   "source": [
    "# Motivation API – Kurzinfo\n",
    "\n",
    "Diese API liefert je nach Stimmung (müde / gestresst / fit) einen zufälligen Motivationsspruch.\n",
    "\n",
    "## Endpunkte\n",
    "- `GET /health` – einfacher Healthcheck\n",
    "- `GET /optionen` – listet gültige Stimmungen auf\n",
    "- `POST /motivation` – nimmt `{ \"stimmung\": \"müde|gestresst|fit\" }` und gibt `{ stimmung, spruch }` zurück\n",
    "\n",
    "## Start (lokal)\n",
    "\n",
    "python -m venv .venv\n",
    "source .venv/bin/activate          \n",
    "pip install -r requirements.txt\n",
    "uvicorn Code.main:app --reload\n",
    "\n",
    "Swagger UI (interaktive Oberfläche):\n",
    "http://127.0.0.1:8000/docs"
   ]
  }
 ],
 "metadata": {
  "kernelspec": {
   "display_name": "Python 3",
   "language": "python",
   "name": "python3"
  },
  "language_info": {
   "codemirror_mode": {
    "name": "ipython",
    "version": 2
   },
   "file_extension": ".py",
   "mimetype": "text/x-python",
   "name": "python",
   "nbconvert_exporter": "python",
   "pygments_lexer": "ipython2",
   "version": "2.7.6"
  }
 },
 "nbformat": 4,
 "nbformat_minor": 5
}
